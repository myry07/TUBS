{
 "cells": [
  {
   "cell_type": "markdown",
   "metadata": {},
   "source": [
    "# Introduction to functions"
   ]
  },
  {
   "cell_type": "markdown",
   "metadata": {},
   "source": [
    "## Defining functions\n",
    "To define a function in Python the following syntax is used:\n",
    "\n",
    "```python\n",
    "def func_name(arg1, arg2, ...):\n",
    "    command here\n",
    "    command here\n",
    "\n",
    "    ...\n",
    "\n",
    "    return return_values\n",
    "```"
   ]
  },
  {
   "cell_type": "markdown",
   "metadata": {},
   "source": [
    "For example:"
   ]
  },
  {
   "cell_type": "code",
   "execution_count": 1,
   "metadata": {},
   "outputs": [],
   "source": [
    "def add(a, b):\n",
    "    a = a ** 2\n",
    "    b = b ** 2\n",
    "    return a + b "
   ]
  },
  {
   "cell_type": "code",
   "execution_count": 2,
   "metadata": {},
   "outputs": [
    {
     "name": "stdout",
     "output_type": "stream",
     "text": [
      "17.247124\n",
      "3.14\n"
     ]
    }
   ],
   "source": [
    "a = 3.14\n",
    "b = 2.718\n",
    "\n",
    "sum = add(a, b)\n",
    "print(sum)\n",
    "print(a)"
   ]
  },
  {
   "cell_type": "markdown",
   "metadata": {},
   "source": [
    "It is also possible to write functions, that return `None`. Note, that printing `a` in the example below results in `None` in the console."
   ]
  },
  {
   "cell_type": "code",
   "execution_count": 4,
   "metadata": {},
   "outputs": [
    {
     "name": "stdout",
     "output_type": "stream",
     "text": [
      "Hello!\n",
      "a = None\n"
     ]
    }
   ],
   "source": [
    "def hello():\n",
    "    print('Hello!')\n",
    "\n",
    "a = hello()\n",
    "print('a =', a)"
   ]
  },
  {
   "cell_type": "markdown",
   "metadata": {},
   "source": [
    "## Defining the data type of the arguments\n",
    "Python has a great (dis-)advantage in being very flexible. For example, when declaring functions, it is not necessary to define the data type of the arguments. The only thing we can do is giving a recommendation by doing the following:"
   ]
  },
  {
   "cell_type": "code",
   "execution_count": 17,
   "metadata": {},
   "outputs": [],
   "source": [
    "def func(a: int, b: str, c: float):\n",
    "    print(a, b, c)"
   ]
  },
  {
   "cell_type": "markdown",
   "metadata": {},
   "source": [
    "This can be helpful for your own understanding but can be violated very easily:"
   ]
  },
  {
   "cell_type": "code",
   "execution_count": 18,
   "metadata": {},
   "outputs": [
    {
     "name": "stdout",
     "output_type": "stream",
     "text": [
      "1 2 3\n"
     ]
    }
   ],
   "source": [
    "func(1, 2, 3)"
   ]
  },
  {
   "cell_type": "markdown",
   "metadata": {},
   "source": [
    "## Positional and keyword arguments"
   ]
  },
  {
   "cell_type": "markdown",
   "metadata": {},
   "source": [
    "Functions are usable with **positional** and **keyword** arguments. \n",
    "\n",
    "**Positional** arguments are set using the position. Let's look at an example:"
   ]
  },
  {
   "cell_type": "code",
   "execution_count": 5,
   "metadata": {},
   "outputs": [
    {
     "name": "stdout",
     "output_type": "stream",
     "text": [
      "a: 10, b: test, c: 3.14\n"
     ]
    }
   ],
   "source": [
    "def example_func(a, b, c):\n",
    "    print(f'a: {a}, b: {b}, c: {c}')\n",
    "\n",
    "example_func(10, 'test', 3.14)"
   ]
  },
  {
   "cell_type": "markdown",
   "metadata": {},
   "source": [
    "The first argument of the `example_func` is set to `a` inside the function. The second argument is set to `b` and the third to `c`. \n",
    "\n",
    "We can also use `a`, `b` and `c` as **keyword** arguments. The order of the arguments doesn't matter as shown below:"
   ]
  },
  {
   "cell_type": "code",
   "execution_count": 7,
   "metadata": {},
   "outputs": [
    {
     "name": "stdout",
     "output_type": "stream",
     "text": [
      "a: 10, b: test, c: 3.14\n"
     ]
    }
   ],
   "source": [
    "example_func(c = 3.14, a = 10, b = 'test')"
   ]
  },
  {
   "cell_type": "markdown",
   "metadata": {},
   "source": [
    "**Keyword** arguments allow us to set standard values for arguments. When using the function, those arguments are not necessary to set explicitly. Let's take a look at an example:"
   ]
  },
  {
   "cell_type": "code",
   "execution_count": 8,
   "metadata": {},
   "outputs": [
    {
     "name": "stdout",
     "output_type": "stream",
     "text": [
      "2\n",
      "5\n"
     ]
    }
   ],
   "source": [
    "def func2(a, b, c = 0):\n",
    "    return a * b + c\n",
    "\n",
    "print(func2(1, 2))\n",
    "print(func2(1, 2, c = 3))"
   ]
  },
  {
   "cell_type": "markdown",
   "metadata": {},
   "source": [
    "`func2` has three arguments, the third one (`c`) being optional with a standard value of 0. When calling the function only `a` and `b` are necessary to set. `c` can either be set using the keyword `c` or as a positional argument. "
   ]
  },
  {
   "cell_type": "markdown",
   "metadata": {},
   "source": [
    "### Pratical example\n",
    "When using the `plot` function from `matplotlib.pyplot`, the `x` and `y` data of the plot is given as **positional** arguments. The settings of the plot are given as **keyword** arguments, like `linewidth` or `color`. In pratice it would be highly laborious to memorize all the position of all the cosmetic parameters for the plot, making the usage of keywords highly pratical."
   ]
  },
  {
   "cell_type": "code",
   "execution_count": 9,
   "metadata": {},
   "outputs": [],
   "source": [
    "import matplotlib.pyplot as plt"
   ]
  },
  {
   "cell_type": "code",
   "execution_count": 10,
   "metadata": {},
   "outputs": [
    {
     "data": {
      "text/plain": [
       "[<matplotlib.lines.Line2D at 0x203e429bf70>]"
      ]
     },
     "execution_count": 10,
     "metadata": {},
     "output_type": "execute_result"
    },
    {
     "data": {
      "image/png": "[encoded data removed]",
      "text/plain": [
       "<Figure size 640x480 with 1 Axes>"
      ]
     },
     "metadata": {},
     "output_type": "display_data"
    }
   ],
   "source": [
    "x = [1, 2, 3]\n",
    "y = [4, 5, 6]\n",
    "\n",
    "plt.plot(x, y, linewidth='2', color='red')"
   ]
  },
  {
   "cell_type": "markdown",
   "metadata": {},
   "source": [
    "### Explicit declaration of positional and keyword arguments\n",
    "It is possible to explicity define, whether an argument should be a positional or a keyword argument:\n",
    "```python\n",
    "def func_name(a, a1, a2, /, b, b1 , b2, *, c, c1, c2):\n",
    "    instructions\n",
    "    ...\n",
    "    return ...\n",
    "```"
   ]
  },
  {
   "cell_type": "markdown",
   "metadata": {},
   "source": [
    "Every argument before the `/` can only be set by its position. Every argument between `/` and `*` can either be set by position or by keyword. And every argument after `*` must be set using a keyword."
   ]
  },
  {
   "cell_type": "markdown",
   "metadata": {},
   "source": [
    "## Indefinite amount of arguments"
   ]
  },
  {
   "cell_type": "markdown",
   "metadata": {},
   "source": [
    "Using `*args` and `**kwargs` it is possible to use an indefinite amount of arguments. \n",
    "\n",
    "Let's start with `*args`. Every argument that's passed into the function will be inserted into the `args`-tuple. To access them, we can use the normal indexing of a tuple."
   ]
  },
  {
   "cell_type": "code",
   "execution_count": 12,
   "metadata": {},
   "outputs": [
    {
     "name": "stdout",
     "output_type": "stream",
     "text": [
      "args-tuple: (1, 10)\n",
      "The first argument: 1\n",
      "args-tuple: (1, 10, 20, 50)\n",
      "The first argument: 1\n"
     ]
    }
   ],
   "source": [
    "def func_args(*args):\n",
    "    print(\"args-tuple:\", args)\n",
    "    var1 = args[0]\n",
    "\n",
    "    print(\"The first argument:\", var1)\n",
    "\n",
    "func_args(1, 10)\n",
    "func_args(1, 10, 20, 50)"
   ]
  },
  {
   "cell_type": "markdown",
   "metadata": {},
   "source": [
    "`**kwargs` are used in a similar fashion, but instead of `kwargs` being a tuple, it is now a dictionary. We haven't introduced dictionaries yet, for now we can just accept, that we can access the elements of `kwargs` using the correspondent keyword."
   ]
  },
  {
   "cell_type": "code",
   "execution_count": 14,
   "metadata": {},
   "outputs": [
    {
     "name": "stdout",
     "output_type": "stream",
     "text": [
      "kwargs-dictionary:  {'linewidth': 2, 'color': 'red', 'ls': 'o'}\n",
      "Value of the keyword 'linewidth': 2\n"
     ]
    }
   ],
   "source": [
    "def func_kwargs(**kwargs):\n",
    "    print(\"kwargs-dictionary: \", kwargs)\n",
    "\n",
    "    print(\"Value of the keyword 'linewidth':\", kwargs[\"linewidth\"])\n",
    "\n",
    "func_kwargs(linewidth = 2, color = 'red', ls = 'o')"
   ]
  },
  {
   "cell_type": "markdown",
   "metadata": {},
   "source": [
    "## Multiple return values"
   ]
  },
  {
   "cell_type": "markdown",
   "metadata": {},
   "source": [
    "Using a simple comma (`,`) allows multiple returns. As for the example below we return the sum and the difference of two numbers. \\\n",
    "We can assign the return values into multiple variables in the same fashion like shown below."
   ]
  },
  {
   "cell_type": "code",
   "execution_count": 15,
   "metadata": {},
   "outputs": [
    {
     "name": "stdout",
     "output_type": "stream",
     "text": [
      "8\n",
      "2\n"
     ]
    }
   ],
   "source": [
    "def multiple_returns(a, b):\n",
    "    return a + b, a - b\n",
    "\n",
    "c, d = multiple_returns(5, 3)\n",
    "\n",
    "print(c)\n",
    "print(d)"
   ]
  }
 ],
 "metadata": {
  "kernelspec": {
   "display_name": "Python 3",
   "language": "python",
   "name": "python3"
  },
  "language_info": {
   "codemirror_mode": {
    "name": "ipython",
    "version": 3
   },
   "file_extension": ".py",
   "mimetype": "text/x-python",
   "name": "python",
   "nbconvert_exporter": "python",
   "pygments_lexer": "ipython3",
   "version": "3.9.5"
  }
 },
 "nbformat": 4,
 "nbformat_minor": 2
}
