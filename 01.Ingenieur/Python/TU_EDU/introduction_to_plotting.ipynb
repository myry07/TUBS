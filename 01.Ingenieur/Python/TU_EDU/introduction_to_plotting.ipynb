{
 "cells": [
  {
   "cell_type": "markdown",
   "metadata": {},
   "source": [
    "# 2.2 Graphics with Python (Introduction to matplotlib)\n",
    "\n",
    "`matplotlib` is the most popular module for creating plots in Python. Other, least popular modules are `plotly`, `seaborn`, `pandas`, ..."
   ]
  },
  {
   "cell_type": "code",
   "execution_count": null,
   "metadata": {},
   "outputs": [],
   "source": [
    "# convetion of importing matplotlib.pyplot\n",
    "import matplotlib.pyplot as plt "
   ]
  },
  {
   "cell_type": "markdown",
   "metadata": {},
   "source": [
    "## Quick start\n",
    "`plt.plot(x,y)` allows the quick plotting of plotting data `y` over `x`. `plt.show()` shows the created plot. "
   ]
  },
  {
   "cell_type": "code",
   "execution_count": null,
   "metadata": {},
   "outputs": [],
   "source": [
    "x = [1, 2, 3, 4, 5, 6, 7, 8, 9, 10, 11, 12]\n",
    "y = [10.3, 11.6, 15.4, 19.0, 25.3, 25.8, 27.5, 32.8, 29.4, 23.3, 17.7, 12.6]\n",
    "\n",
    "plt.plot(x, y)\n",
    "plt.show()"
   ]
  },
  {
   "cell_type": "markdown",
   "metadata": {},
   "source": [
    "### Customizing the plot \n",
    "The `plot()`-function has a lot of options. They can either be set using a short string or using the actual keywords."
   ]
  },
  {
   "cell_type": "markdown",
   "metadata": {},
   "source": [
    "#### Using a string \n",
    "Only if you're very lazy. Only for quick and dirty plotting. \\\n",
    "Usage: `plot(x,y,'...')`\n",
    "\n",
    "- `'.'`: Plot with dots.\n",
    "- `'o-'`: Draw a line and put circles at data points.\n",
    "- `'--'`: Draw a dashed line.\n",
    "- `':'`: Draw a dotted line.\n",
    "- `'s'`: Use squares as markers.\n",
    "- `'x'`: Use x as markers.\n",
    "- `'r'`, `'b'`, `'g'`, `'k'`: Set the color of the plot to red, blue, green or black."
   ]
  },
  {
   "cell_type": "code",
   "execution_count": null,
   "metadata": {},
   "outputs": [],
   "source": [
    "plt.plot(x,y, 's--r') # plot data with a dashed line, using square markers, color set to red"
   ]
  },
  {
   "cell_type": "markdown",
   "metadata": {},
   "source": [
    "#### Using explicit keywords\n",
    "The better way of customizing your plot. Keywords:\n",
    "- `marker`: String, `'.'` (dots), `'o'` (circles), `'s'` (squares), `'^'` (triangles), `'x'` (x marker), ...\n",
    "- `ls` (abbr. for linestyle): String, `'-'` or `'solid'`, `'--'` or `'dashed'`, `':'` or `'dotted'`, ...\n",
    "- `color`: String, `'r'` or `'red'`, `'b'` or `'blue'`, `'g'` or `'green'`, `'k'` or `'black'`, ... \\\n",
    "even hexcodes are possible using `'#......'`\n",
    "- `linewidth`: Width of the line in pt\n",
    "- `markersize`: Size of the markers in pt \n",
    "\n",
    "and maaaany more. See [documentation](https://matplotlib.org/stable/api/_as_gen/matplotlib.pyplot.plot.html) for all the options!"
   ]
  },
  {
   "cell_type": "code",
   "execution_count": null,
   "metadata": {},
   "outputs": [],
   "source": [
    "plt.plot(x, y, marker='^', ls='dotted', color='#9f0be0', linewidth=2, markersize=10)"
   ]
  },
  {
   "cell_type": "markdown",
   "metadata": {},
   "source": [
    "## More information about matplotlib\n",
    "General user guide: [https://matplotlib.org/stable/users/index.html](https://matplotlib.org/stable/users/index.html) \\\n",
    "Explanation of Figures and Axes: [https://matplotlib.org/stable/users/explain/quick_start.html](https://matplotlib.org/stable/users/explain/quick_start.html)"
   ]
  }
 ],
 "metadata": {
  "kernelspec": {
   "display_name": "Python 3",
   "language": "python",
   "name": "python3"
  },
  "language_info": {
   "codemirror_mode": {
    "name": "ipython",
    "version": 3
   },
   "file_extension": ".py",
   "mimetype": "text/x-python",
   "name": "python",
   "nbconvert_exporter": "python",
   "pygments_lexer": "ipython3",
   "version": "3.12.2"
  }
 },
 "nbformat": 4,
 "nbformat_minor": 2
}
