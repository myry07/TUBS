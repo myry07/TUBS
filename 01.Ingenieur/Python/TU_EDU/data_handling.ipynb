{
 "cells": [
  {
   "cell_type": "markdown",
   "metadata": {},
   "source": [
    "# 2. Working with data"
   ]
  },
  {
   "cell_type": "markdown",
   "metadata": {},
   "source": [
    "## 2.1 Data types, data handling, formatting\n",
    "\n",
    "### Primitive data types\n",
    "\n",
    "#### integers\n",
    "``` 1 , -3, 142343242354```\n",
    "\n",
    "#### floats\n",
    "- floating point numbers\n",
    "- decimal symbol '.'\n",
    "- scientific notation e+..., e-... possible\n",
    "\n",
    "``` 1.0 , -3.1415, 3e5```\n",
    "\n",
    "#### complex\n",
    "- ```1j``` imaginary unit \n",
    "- (Don't use ```j``` without a number in front of it, otherwise it will be interpreted as a variable!)\n",
    "- real and complex part are floats\n",
    "\n",
    " ``` 1.0 + 3j ```\n",
    "\n",
    "#### strings\n",
    "- consists of characters\n",
    "- enclosed by \"\" or ''\n",
    "- special charachters like '\\n' (new line), '\\t' (tabulator)\n",
    "\n",
    " ``` \"abc\", 'Hello World!', \"Line1\\n Line2\" ```\n",
    "\n",
    "#### boolean\n",
    "- two states:\n",
    " ``` True , False ```"
   ]
  },
  {
   "cell_type": "code",
   "execution_count": null,
   "metadata": {},
   "outputs": [],
   "source": [
    "#--------------------------------#\n",
    "#- check data type using type() -#\n",
    "#--------------------------------#\n",
    "\n",
    "a = 1.0\n",
    "print(type(a))"
   ]
  },
  {
   "cell_type": "code",
   "execution_count": null,
   "metadata": {},
   "outputs": [],
   "source": [
    "#----------------#\n",
    "#- Float limits -#\n",
    "#----------------#\n",
    "print(1.79e308)\n",
    "print(1.80e308)\n",
    "\n",
    "print(5.0e-324)\n",
    "print(1.0e-324)"
   ]
  },
  {
   "cell_type": "code",
   "execution_count": null,
   "metadata": {},
   "outputs": [],
   "source": [
    "#------------------#\n",
    "#- sys.float_info -# \n",
    "#------------------#\n",
    "import sys \n",
    "sys.float_info"
   ]
  },
  {
   "cell_type": "markdown",
   "metadata": {},
   "source": [
    "### Data type conversion\n",
    "#### implicit conversion"
   ]
  },
  {
   "cell_type": "code",
   "execution_count": null,
   "metadata": {},
   "outputs": [],
   "source": [
    "x = 7      # integer\n",
    "y = 15.6     # float\n",
    "z = x + y    # float\n",
    "\n",
    "print(z)\n",
    "print(type(x), type(y), type(z))"
   ]
  },
  {
   "cell_type": "markdown",
   "metadata": {},
   "source": [
    "#### explicit conversion\n",
    "Use dedicated functions: ``` int, round, float, complex, format ```\n",
    "\n",
    "- ```int(a)```: turns float or string `a` into integer, truncates at decimal point\n",
    "- ```round(a)```: rounds float number `a` to nearest integer\n",
    "- ```float(a)```: turn string or integer `a` to a float number\n",
    "- ```complex(a)```: turns string `a` into a complex number\n",
    "- ```complex(a, b)```: creates complex number `a + b * 1j`\n",
    "- ```format(var, format_code)```: formatting a string, will be discussed later"
   ]
  },
  {
   "cell_type": "code",
   "execution_count": null,
   "metadata": {},
   "outputs": [],
   "source": [
    "# examples\n",
    "a = 6.7\n",
    "print(round(a))\n",
    "print(int(a))\n",
    "\n",
    "pi_txt = '3.14'\n",
    "print(float(pi_txt))\n",
    "\n",
    "b = 1.3\n",
    "print(complex(a, b))"
   ]
  },
  {
   "cell_type": "markdown",
   "metadata": {},
   "source": [
    "#### Conversion using the `math` module \n",
    "- `math.floor()`: returns rounded down integer\n",
    "- `math.ceil()`: returns rounded up integer"
   ]
  },
  {
   "cell_type": "code",
   "execution_count": null,
   "metadata": {},
   "outputs": [],
   "source": [
    "import math as math\n",
    "\n",
    "pi = 3.14\n",
    "print(math.floor(pi))\n",
    "print(math.ceil(pi))"
   ]
  },
  {
   "cell_type": "markdown",
   "metadata": {},
   "source": [
    "#### Formatted strings\n",
    "Many possibilities to convert data into strings. Pratical for exporting and displaying data!\n",
    "- `str()`: simple conversion into a string, highest precision used\n",
    "- `format()`: usage shown below\n",
    "- `f\"... {var1}...{var2}\"`: substitutes `{var_name}` by value of `var_name`"
   ]
  },
  {
   "cell_type": "code",
   "execution_count": null,
   "metadata": {},
   "outputs": [],
   "source": [
    "# example\n",
    "data = 10.01\n",
    "print(format(data, '4.1f'))    # 4 is the width of the printed field, 1 digit after decimal\n",
    "print(format(data, '7.3f'))    # 7 is the width of the printed field, 3 digit after decimal\n",
    "print(format(data, '07.3f'))   # 7 is the width of the printed field (fill with 0 if necessary), 3 digit after decimal"
   ]
  },
  {
   "cell_type": "markdown",
   "metadata": {},
   "source": [
    "`.format()`-method\n",
    "1. Create a template string, use `{0:...}`, `{1:...}`, ... (the `...` are placeholder for actual formatting settings, see example below)\n",
    "2. Use `string_name.format(var0, var1, ...)` to insert formatted variables into the string. For further usage consider declaring a new variable."
   ]
  },
  {
   "cell_type": "code",
   "execution_count": null,
   "metadata": {},
   "outputs": [],
   "source": [
    "# example\n",
    "bx = 10.01\n",
    "by = 11.08\n",
    "str01 = 'Bx {0:7.3f} nT, By {1:7.3f} nT'\n",
    "str02 = str01.format(bx, by)\n",
    "print(str02)"
   ]
  },
  {
   "cell_type": "markdown",
   "metadata": {},
   "source": [
    "`f\"...\"`-method\n",
    "Similar to `.format()`-method but skipping the second step. Usage shown below"
   ]
  },
  {
   "cell_type": "code",
   "execution_count": null,
   "metadata": {},
   "outputs": [],
   "source": [
    "# example\n",
    "bx = 10.01\n",
    "by = 11.08\n",
    "str01 = f'Bx {bx:7.3f} nT, By {by:7.3f} nT'\n",
    "print(str01)"
   ]
  },
  {
   "cell_type": "markdown",
   "metadata": {},
   "source": [
    "### The `input()`-function\n",
    "The `input()` allows the user to input a string."
   ]
  },
  {
   "cell_type": "code",
   "execution_count": null,
   "metadata": {},
   "outputs": [],
   "source": [
    "# Example \n",
    "s = input()\n",
    "print(s)"
   ]
  },
  {
   "cell_type": "markdown",
   "metadata": {},
   "source": [
    "`input(prompt)` makes the prompt appear in the console."
   ]
  },
  {
   "cell_type": "code",
   "execution_count": null,
   "metadata": {},
   "outputs": [],
   "source": [
    "name = input('Name: ')\n",
    "age = input('Age: ')"
   ]
  },
  {
   "cell_type": "markdown",
   "metadata": {},
   "source": [
    "Data conversion can be useful for further processing."
   ]
  },
  {
   "cell_type": "code",
   "execution_count": null,
   "metadata": {},
   "outputs": [],
   "source": [
    "age = input('Age: ')   # string\n",
    "age = int(age)         # integer"
   ]
  },
  {
   "cell_type": "markdown",
   "metadata": {},
   "source": [
    "Also useful for debugging. Code can be suspended.\n",
    "```python\n",
    "Codeblock1\n",
    "input('Press enter to continue.')\n",
    "Codeblock2\n",
    "input('Press enter to continue.')\n",
    "```"
   ]
  },
  {
   "cell_type": "code",
   "execution_count": null,
   "metadata": {},
   "outputs": [],
   "source": [
    "# Example\n",
    "a = 1\n",
    "b = 2\n",
    "input('Press enter to continue.')\n",
    "print(a+b)\n",
    "input('Press enter to continue.')\n",
    "print(b-a)\n",
    "# input('Press enter to continue.')\n",
    "# print(a / 0)"
   ]
  }
 ],
 "metadata": {
  "kernelspec": {
   "display_name": "Python 3",
   "language": "python",
   "name": "python3"
  },
  "language_info": {
   "codemirror_mode": {
    "name": "ipython",
    "version": 3
   },
   "file_extension": ".py",
   "mimetype": "text/x-python",
   "name": "python",
   "nbconvert_exporter": "python",
   "pygments_lexer": "ipython3",
   "version": "3.12.2"
  }
 },
 "nbformat": 4,
 "nbformat_minor": 2
}
