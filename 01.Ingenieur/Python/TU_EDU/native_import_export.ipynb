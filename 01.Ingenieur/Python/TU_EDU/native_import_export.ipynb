{
 "cells": [
  {
   "cell_type": "markdown",
   "metadata": {},
   "source": [
    "# Importing and exporting data\n",
    "Native Python has a lot of possibilities to import and export data. This notebook gives a quick overview over the different methods."
   ]
  },
  {
   "cell_type": "markdown",
   "metadata": {},
   "source": [
    "## Importing data"
   ]
  },
  {
   "cell_type": "markdown",
   "metadata": {},
   "source": [
    "### open(), read(), close()"
   ]
  },
  {
   "cell_type": "code",
   "execution_count": null,
   "metadata": {},
   "outputs": [],
   "source": [
    "input_file_name = \"../data/test_textfile.txt\"  # your file name here"
   ]
  },
  {
   "cell_type": "markdown",
   "metadata": {},
   "source": [
    "To open a file, `open(file_name, mode)` can be used. `mode` defines the way, the file is handled. \"file_handling_modes.png\" ([source](https://stackoverflow.com/questions/6648493/how-to-open-a-file-for-both-reading-and-writing)) gives a great overview of the possible modes."
   ]
  },
  {
   "cell_type": "code",
   "execution_count": null,
   "metadata": {},
   "outputs": [],
   "source": [
    "f = open(input_file_name, 'r')"
   ]
  },
  {
   "cell_type": "markdown",
   "metadata": {},
   "source": [
    "Using `read()`, the contents of `f` can be accessed. Note, that `f.read()` returns the contents as a long string."
   ]
  },
  {
   "cell_type": "code",
   "execution_count": null,
   "metadata": {},
   "outputs": [],
   "source": [
    "content = f.read()"
   ]
  },
  {
   "cell_type": "code",
   "execution_count": null,
   "metadata": {},
   "outputs": [],
   "source": [
    "content"
   ]
  },
  {
   "cell_type": "markdown",
   "metadata": {},
   "source": [
    "At the end of the code, the file needs to be closed again, using `close()`."
   ]
  },
  {
   "cell_type": "code",
   "execution_count": null,
   "metadata": {},
   "outputs": [],
   "source": [
    "f.close()"
   ]
  },
  {
   "cell_type": "markdown",
   "metadata": {},
   "source": [
    "### with open()\n",
    "To automatically close the file after usage, one can make use of the following syntax."
   ]
  },
  {
   "cell_type": "code",
   "execution_count": null,
   "metadata": {},
   "outputs": [],
   "source": [
    "with open(input_file_name, 'r') as f:\n",
    "    content = f.read()\n",
    "    print(content)"
   ]
  },
  {
   "cell_type": "markdown",
   "metadata": {},
   "source": [
    "### csv-Reader"
   ]
  },
  {
   "cell_type": "markdown",
   "metadata": {},
   "source": [
    "When dealing with data, it is highly impratical to use the above methods, because the whole content will be turned into ONE SINGLE string. The `csv`-module provides useful tools for dealing with big data sets. It is a native Python module and doesn't need to be installed separately. "
   ]
  },
  {
   "cell_type": "code",
   "execution_count": null,
   "metadata": {},
   "outputs": [],
   "source": [
    "import csv"
   ]
  },
  {
   "cell_type": "code",
   "execution_count": null,
   "metadata": {},
   "outputs": [],
   "source": [
    "input_file_name = \"../data/test_dataset.csv\""
   ]
  },
  {
   "cell_type": "markdown",
   "metadata": {},
   "source": [
    "We are able to initialize a csv-Reader using `csv.reader(file, delimiter)`. `delimiter` should be set to the charachter(s) separating the values. There are several other arguments that can be used, see [the official documentation](https://docs.python.org/3/library/csv.html#csv.reader) for more."
   ]
  },
  {
   "cell_type": "code",
   "execution_count": null,
   "metadata": {},
   "outputs": [],
   "source": [
    "with open(input_file_name, 'r') as f:\n",
    "    reader = csv.reader(f, delimiter=',')\n",
    "    content = []\n",
    "\n",
    "    for row in reader:\n",
    "        content.append(row)"
   ]
  },
  {
   "cell_type": "markdown",
   "metadata": {},
   "source": [
    "After executing the code above, `content` is a list of all rows, where each row is a list of the values without the delimiters. To access a specific column, we can make use of np.array-slicing."
   ]
  },
  {
   "cell_type": "code",
   "execution_count": null,
   "metadata": {},
   "outputs": [],
   "source": [
    "import numpy as np"
   ]
  },
  {
   "cell_type": "code",
   "execution_count": null,
   "metadata": {},
   "outputs": [],
   "source": [
    "content = np.array(content)\n",
    "\n",
    "# Extract all x-values (excluding the header)\n",
    "x_arr = content[1:, 0]\n",
    "\n",
    "print(x_arr)"
   ]
  },
  {
   "cell_type": "markdown",
   "metadata": {},
   "source": [
    "## Exporting data\n",
    "Using `\"w\"` (or other possible `mode` arguments), data from the code can be written into a file."
   ]
  },
  {
   "cell_type": "code",
   "execution_count": null,
   "metadata": {},
   "outputs": [],
   "source": [
    "# Create some sample data\n",
    "import numpy as np\n",
    "\n",
    "x = np.arange(-10, 10.5, 0.5)\n",
    "y = x ** 2"
   ]
  },
  {
   "cell_type": "code",
   "execution_count": null,
   "metadata": {},
   "outputs": [],
   "source": [
    "# Delcare name of output file\n",
    "output_file_name = \"../data/test_export.csv\" "
   ]
  },
  {
   "cell_type": "markdown",
   "metadata": {},
   "source": [
    "### open(), write()\n",
    "We open the file in a similar fashion as before. `write()` takes a string as an argument an writes it into the file. "
   ]
  },
  {
   "cell_type": "code",
   "execution_count": null,
   "metadata": {},
   "outputs": [],
   "source": [
    "with open(output_file_name, \"w\") as f:\n",
    "    \n",
    "    # Write a header\n",
    "    f.write(\"x,y\\n\")\n",
    "\n",
    "    for i in range(len(x)):\n",
    "        f.write(f\"{x[i]},{y[i]}\\n\")"
   ]
  },
  {
   "cell_type": "markdown",
   "metadata": {},
   "source": [
    "### csv-Writer\n",
    "The `csv`-module also provides us with a Writer for writing .csv-files. When using `open()`, the keyword argument `newline` should be set to an empty string. Otherwise there would be an empty line after each written row. \\\n",
    "The `writerow()`-function of the `csv.writer` takes lists as an argument. Like with the `csv.reader` every list stands for one written line."
   ]
  },
  {
   "cell_type": "code",
   "execution_count": null,
   "metadata": {},
   "outputs": [],
   "source": [
    "with open(output_file_name, 'w', newline='') as f:\n",
    "    \n",
    "    writer = csv.writer(f, delimiter=',')\n",
    "    \n",
    "    # Write a header\n",
    "    writer.writerow(['x','y'])\n",
    "    \n",
    "    for i in range(len(x)):\n",
    "        writer.writerow([x[i],y[i]])"
   ]
  },
  {
   "cell_type": "markdown",
   "metadata": {},
   "source": [
    "## Example\n",
    "`students_dataset.csv` (uploaded to StudIP) contains a list of students with their age and their study course. \\\n",
    "Using the `csv`-module\n",
    "- calculate the average age of the students (*Hint: Transform the age-column into an `numpy`-array with integers*) \n",
    "\n",
    "**Extra**\n",
    "- count the number of participants in each course \\\n",
    "(*Hint: Create an array `course_names` that stores each unique course name and an array `course_count` that stores the counts. Iterate over the \"study course\"-column.*) \\\n",
    "(*Hint 2: Use the `course_names.index(course)` function, to find the index of the `course` in the `course_names`-array.*)  \n",
    "\n",
    "- create a csv file that gives a overview of the number of participants in each course (columns: study course, number of participants)"
   ]
  },
  {
   "cell_type": "code",
   "execution_count": null,
   "metadata": {},
   "outputs": [],
   "source": [
    "students_file = \"../data/students_dataset.csv\""
   ]
  },
  {
   "cell_type": "markdown",
   "metadata": {},
   "source": [
    "### average age"
   ]
  },
  {
   "cell_type": "code",
   "execution_count": null,
   "metadata": {},
   "outputs": [],
   "source": [
    "with open(students_file, 'r') as f:\n",
    "    csv_reader = csv.reader(f, delimiter=',')\n",
    "    students_data = []\n",
    "\n",
    "    for row in csv_reader:\n",
    "        students_data.append(row)\n",
    "\n",
    "print(students_data)"
   ]
  },
  {
   "cell_type": "code",
   "execution_count": null,
   "metadata": {},
   "outputs": [],
   "source": [
    "students_data = np.array(students_data)\n",
    "age_column = np.array(students_data[1:,1], dtype=int)"
   ]
  },
  {
   "cell_type": "code",
   "execution_count": null,
   "metadata": {},
   "outputs": [],
   "source": [
    "print(\"Average age:\", np.average(age_column))\n",
    "\n",
    "# Alternative\n",
    "sum = 0\n",
    "for i in age_column:\n",
    "    sum += i\n",
    "\n",
    "average = sum / len(age_column)\n",
    "print(\"Average age:\", average)"
   ]
  },
  {
   "cell_type": "markdown",
   "metadata": {},
   "source": [
    "### Number of course participants"
   ]
  },
  {
   "cell_type": "code",
   "execution_count": null,
   "metadata": {},
   "outputs": [],
   "source": [
    "course_column = np.array(students_data[1:,2], dtype=str)\n",
    "\n",
    "print(course_column)"
   ]
  },
  {
   "cell_type": "code",
   "execution_count": null,
   "metadata": {},
   "outputs": [],
   "source": [
    "course_names = []\n",
    "course_counts = []\n",
    "\n",
    "for i in course_column:\n",
    "    if i not in course_names:\n",
    "        course_names.append(i)\n",
    "        course_counts.append(1)\n",
    "    else:\n",
    "        index_course = course_names.index(i)\n",
    "        course_counts[index_course] += 1\n",
    "\n",
    "print(course_names)\n",
    "print(course_counts)"
   ]
  },
  {
   "cell_type": "code",
   "execution_count": null,
   "metadata": {},
   "outputs": [],
   "source": [
    "with open(\"../data/number_of_participants.csv\", \"w\", newline=\"\") as f:\n",
    "    csv_writer = csv.writer(f, delimiter=',')\n",
    "\n",
    "    csv_writer.writerow(['study course', 'number of participants'])\n",
    "\n",
    "    for i in range(len(course_names)):\n",
    "        csv_writer.writerow([course_names[i], course_counts[i]])"
   ]
  }
 ],
 "metadata": {
  "kernelspec": {
   "display_name": "Python 3",
   "language": "python",
   "name": "python3"
  },
  "language_info": {
   "codemirror_mode": {
    "name": "ipython",
    "version": 3
   },
   "file_extension": ".py",
   "mimetype": "text/x-python",
   "name": "python",
   "nbconvert_exporter": "python",
   "pygments_lexer": "ipython3",
   "version": "3.11.6"
  }
 },
 "nbformat": 4,
 "nbformat_minor": 2
}
