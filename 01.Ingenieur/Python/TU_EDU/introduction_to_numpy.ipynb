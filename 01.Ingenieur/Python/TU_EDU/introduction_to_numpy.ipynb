{
 "cells": [
  {
   "cell_type": "markdown",
   "metadata": {},
   "source": [
    "# Introduction to NumPy\n",
    "NumPy (Numerical Python) is a Python library used for working with arrays, internally implemented with C (fast computation), as well as numerical methods. It has functions for working in the domain of linear algebra, Fourier transform and matrices. \n",
    "\n",
    "One key element of NumPy is the **ndarray**, which provides various supporting functions. It is up to 50-times faster than a tradinational list in Python."
   ]
  },
  {
   "cell_type": "markdown",
   "metadata": {},
   "source": [
    "## ndarray"
   ]
  },
  {
   "cell_type": "markdown",
   "metadata": {},
   "source": [
    "### Simple initialization and handling"
   ]
  },
  {
   "cell_type": "code",
   "execution_count": 1,
   "metadata": {},
   "outputs": [],
   "source": [
    "import numpy as np\n",
    "# it is convention to use np as an abbreviation for numpy \n",
    "# in the code"
   ]
  },
  {
   "cell_type": "code",
   "execution_count": 2,
   "metadata": {},
   "outputs": [],
   "source": [
    "# Initialize a NumPy array using np.array() \n",
    "arr1 = [1, 2, 3, 4, 5]\n",
    "arr1 = np.array(arr1)"
   ]
  },
  {
   "cell_type": "code",
   "execution_count": 3,
   "metadata": {},
   "outputs": [],
   "source": [
    "# Different dimensions are possible\n",
    "arr0d = np.array(20)\n",
    "arr1d = np.array([1, 2, 3, 4, 5, 6])\n",
    "arr2d = np.array([[1, 2, 3], \n",
    "                  [4, 5, 6]])"
   ]
  },
  {
   "cell_type": "code",
   "execution_count": 7,
   "metadata": {},
   "outputs": [
    {
     "name": "stdout",
     "output_type": "stream",
     "text": [
      "2\n"
     ]
    }
   ],
   "source": [
    "# check the array dimensions\n",
    "print(arr2d.ndim)"
   ]
  },
  {
   "cell_type": "code",
   "execution_count": 11,
   "metadata": {},
   "outputs": [
    {
     "name": "stdout",
     "output_type": "stream",
     "text": [
      "(2, 3)\n"
     ]
    }
   ],
   "source": [
    "# check the shape of an array\n",
    "print(arr2d.shape)"
   ]
  },
  {
   "cell_type": "code",
   "execution_count": 13,
   "metadata": {},
   "outputs": [
    {
     "name": "stdout",
     "output_type": "stream",
     "text": [
      "3\n",
      "3\n"
     ]
    }
   ],
   "source": [
    "# access individual elements\n",
    "print(arr2d[0][2])\n",
    "\n",
    "# Indexing [i,j,...] possible\n",
    "print(arr2d[0,2])"
   ]
  },
  {
   "cell_type": "code",
   "execution_count": 18,
   "metadata": {},
   "outputs": [
    {
     "name": "stdout",
     "output_type": "stream",
     "text": [
      "3\n",
      "[1 3 5]\n"
     ]
    }
   ],
   "source": [
    "# negative indices\n",
    "print(arr2d[-2, -1])\n",
    "\n",
    "# list slicing\n",
    "print(arr1d[:5:2])"
   ]
  },
  {
   "cell_type": "markdown",
   "metadata": {},
   "source": [
    "### Digression: Negative indices and slicing\n",
    "For Python lists as well as for NumPy ndarrays it is possible to use negative indices. An index of `-1` corresponds to the last element in a list/array, an index of `-2` to the second last, ... and so on and so on. E. g.:\n",
    "```python\n",
    "list1 = ['a', 'b', 'c', 'd', 'e']\n",
    "print(list1[-1])\n",
    "```\n",
    "prints `'e'`.\n",
    "\n",
    "\n",
    "To access multiple elements with a given step size, one can make use of list slicing in Python. Usage: \n",
    "\n",
    "`list_name[start:stop:step]`\n",
    "\n",
    "If not specified, \\\n",
    "`start` will be set to `0`, \\\n",
    "`stop` will be set to `len(list_name)` and  \\\n",
    "`step` will be set to `1`. \n",
    "\n",
    "For example:\n",
    "```python\n",
    "list1 = ['a', 'b', 'c', 'd', 'e']\n",
    "print(list1[::2])\n",
    "```\n",
    "prints `['a', 'c', 'e']`\n",
    "\n",
    "```python\n",
    "list1 = ['a', 'b', 'c', 'd', 'e']\n",
    "print(list1[:2:])\n",
    "```\n",
    "prints `['a', 'b']`"
   ]
  },
  {
   "cell_type": "markdown",
   "metadata": {},
   "source": [
    "### Methods for initializing arrays\n",
    "**np.linspace()** \\\n",
    "`np.linspace(start, stop, nr)` creates an ndarray with `nr` evenly spaced float numbers starting at `start` and ending at `stop`.   \n",
    "\n",
    "**np.arange()** \\\n",
    "`np.arange(start, stop, step)` creates an ndarray with float numbers in step sizes of `step`. `start` is inclusive, `stop` is exclusive. \n",
    "\n",
    "**np.logspace()** \\\n",
    "`np.linspace(start, stop, nr)` creates an ndarray with `nr` logarithmicly evenly spaced float numbers starting at `10 ** start` and ending at `10 ** stop`.   "
   ]
  },
  {
   "cell_type": "code",
   "execution_count": 24,
   "metadata": {},
   "outputs": [
    {
     "name": "stdout",
     "output_type": "stream",
     "text": [
      "np.linspace(0, 5, 11)\n",
      "[0.  0.5 1.  1.5 2.  2.5 3.  3.5 4.  4.5 5. ]\n",
      "\n",
      "np.arange(0, 5, 0.5)\n",
      "[0.  0.5 1.  1.5 2.  2.5 3.  3.5 4.  4.5]\n",
      "\n",
      "np.logspace(0, 5, 6)\n",
      "[1.e+00 1.e+01 1.e+02 1.e+03 1.e+04 1.e+05]\n"
     ]
    }
   ],
   "source": [
    "print('np.linspace(0, 5, 11)')\n",
    "print(np.linspace(0, 5, 11))\n",
    "\n",
    "print('\\nnp.arange(0, 5, 0.5)')\n",
    "print(np.arange(0, 5, 0.5))\n",
    "\n",
    "print('\\nnp.logspace(0, 5, 6)')\n",
    "print(np.logspace(0, 5, 6))"
   ]
  },
  {
   "cell_type": "markdown",
   "metadata": {},
   "source": [
    "**np.zeros()** \\\n",
    "`np.zeros(shape)` creates an array of shape `shape` filled with zeros \n",
    "\n",
    "**np.ones()** \\\n",
    "`np.ones(shape)` creates an array of shape `shape` filled with ones "
   ]
  },
  {
   "cell_type": "code",
   "execution_count": 33,
   "metadata": {},
   "outputs": [
    {
     "name": "stdout",
     "output_type": "stream",
     "text": [
      "[[0. 0. 0. 0. 0.]\n",
      " [0. 0. 0. 0. 0.]] \n",
      "\n",
      "[1. 1. 1.]\n"
     ]
    }
   ],
   "source": [
    "print(np.zeros((2,5)), '\\n')\n",
    "print(np.ones(3))"
   ]
  },
  {
   "cell_type": "markdown",
   "metadata": {},
   "source": [
    "### Computing with arrays\n",
    "In contrast to Python lists, it is possible to do mathematical operations on NumPy arrays. They provide a quick and easy way to handle mathematical operations for all elements of an array."
   ]
  },
  {
   "cell_type": "code",
   "execution_count": 34,
   "metadata": {},
   "outputs": [
    {
     "name": "stdout",
     "output_type": "stream",
     "text": [
      "arr1 ** 2:  [ 1  4  9 16 25] \n",
      "\n",
      "arr1 * 2:  [ 2  4  6  8 10] \n",
      "\n",
      "arr1 + arr2:  [0 0 0 0 0]\n"
     ]
    }
   ],
   "source": [
    "arr1 = np.array([1, 2, 3, 4 ,5])\n",
    "arr2 = (-1) * arr1\n",
    "\n",
    "print('arr1 ** 2: ', arr1 ** 2, '\\n')\n",
    "print('arr1 * 2: ', arr1 * 2, '\\n')\n",
    "print(\"arr1 + arr2: \", arr1 + arr2)"
   ]
  },
  {
   "cell_type": "markdown",
   "metadata": {},
   "source": [
    "### Practical example of the usage of ndarrays"
   ]
  },
  {
   "cell_type": "code",
   "execution_count": 35,
   "metadata": {},
   "outputs": [],
   "source": [
    "import matplotlib.pyplot as plt"
   ]
  },
  {
   "cell_type": "code",
   "execution_count": 40,
   "metadata": {},
   "outputs": [
    {
     "data": {
      "text/plain": [
       "[<matplotlib.lines.Line2D at 0x7f58411f0d10>]"
      ]
     },
     "execution_count": 40,
     "metadata": {},
     "output_type": "execute_result"
    },
    {
     "data": {
      "image/png": "[encoded data removed]",
      "text/plain": [
       "<Figure size 640x480 with 1 Axes>"
      ]
     },
     "metadata": {},
     "output_type": "display_data"
    }
   ],
   "source": [
    "x = np.linspace(-5, 5, 101)\n",
    "y = x ** 2\n",
    "\n",
    "plt.plot(x,y)"
   ]
  },
  {
   "cell_type": "markdown",
   "metadata": {},
   "source": [
    "## Useful functions"
   ]
  },
  {
   "cell_type": "markdown",
   "metadata": {},
   "source": [
    "### Basic math\n",
    "also applicable to ndarrays!"
   ]
  },
  {
   "cell_type": "code",
   "execution_count": 44,
   "metadata": {},
   "outputs": [
    {
     "name": "stdout",
     "output_type": "stream",
     "text": [
      "pi = 3.141592653589793\n",
      "e = 2.718281828459045\n",
      "sin(pi) = 1.2246467991473532e-16\n",
      "cos(pi) = -1.0\n",
      "exp(pi * i) = (-1+1.2246467991473532e-16j)\n",
      "ln(e ** 2) = 2.0\n",
      "log(10 ** 3) = 3.0\n"
     ]
    }
   ],
   "source": [
    "# np.pi, np.e\n",
    "print(f\"pi = {np.pi}\")\n",
    "print(f\"e = {np.e}\")\n",
    "\n",
    "# np.sin()\n",
    "print(f\"sin(pi) = {np.sin(np.pi)}\")\n",
    "\n",
    "# np.cos()\n",
    "print(f\"cos(pi) = {np.cos(np.pi)}\")\n",
    "\n",
    "# np.exp()\n",
    "print(f\"exp(pi * i) = {np.exp(np.pi * 1j)}\")\n",
    "\n",
    "# np.log() (= logarithmus naturalis, also called ln)\n",
    "print(f\"ln(e ** 2) = {np.log(np.e ** 2)}\")\n",
    "\n",
    "# np.log10() (= decadal logarithm)\n",
    "print(f\"log(10 ** 3) = {np.log10(10 ** 3)}\")\n"
   ]
  },
  {
   "cell_type": "code",
   "execution_count": 47,
   "metadata": {},
   "outputs": [
    {
     "data": {
      "text/plain": [
       "[<matplotlib.lines.Line2D at 0x7f5840e6bc10>]"
      ]
     },
     "execution_count": 47,
     "metadata": {},
     "output_type": "execute_result"
    },
    {
     "data": {
      "image/png": "[encoded data removed]",
      "text/plain": [
       "<Figure size 640x480 with 1 Axes>"
      ]
     },
     "metadata": {},
     "output_type": "display_data"
    }
   ],
   "source": [
    "# example for application to an ndarray\n",
    "angles = np.linspace(0, 2 * np.pi, 101)\n",
    "sin_angles = np.sin(angles)\n",
    "cos_angles = np.cos(angles)\n",
    "\n",
    "plt.plot(angles, sin_angles)\n",
    "# plt.plot(angles, cos_angles)"
   ]
  },
  {
   "cell_type": "markdown",
   "metadata": {},
   "source": [
    "#### Conversion of radians to degree and vice-versa "
   ]
  },
  {
   "cell_type": "code",
   "execution_count": null,
   "metadata": {},
   "outputs": [],
   "source": [
    "# np.deg2rad() to convert degree into radians\n",
    "print(np.deg2rad(180))\n",
    "\n",
    "# np.rad2deg() to convert radians into degree\n",
    "print(np.rad2deg(np.pi))"
   ]
  },
  {
   "cell_type": "markdown",
   "metadata": {},
   "source": [
    "### Finding extrema"
   ]
  },
  {
   "cell_type": "code",
   "execution_count": 48,
   "metadata": {},
   "outputs": [
    {
     "name": "stdout",
     "output_type": "stream",
     "text": [
      "-1.0\n",
      "1.0\n"
     ]
    }
   ],
   "source": [
    "# Minimum of numpy array np.min()\n",
    "print(np.min(sin_angles))\n",
    "\n",
    "# Maximum of numpy array np.max()\n",
    "print(np.max(sin_angles))"
   ]
  },
  {
   "cell_type": "markdown",
   "metadata": {},
   "source": [
    "### Mean value\n",
    "`np.mean(arr)` returns the arithmetic mean of array `arr`"
   ]
  },
  {
   "cell_type": "code",
   "execution_count": 49,
   "metadata": {},
   "outputs": [
    {
     "data": {
      "text/plain": [
       "-1.740206169189353e-17"
      ]
     },
     "execution_count": 49,
     "metadata": {},
     "output_type": "execute_result"
    }
   ],
   "source": [
    "np.mean(sin_angles)"
   ]
  },
  {
   "cell_type": "markdown",
   "metadata": {},
   "source": [
    "## np.random\n",
    "The `np.random` submodule provides useful functions when dealing with random numbers. \n",
    "\n",
    "**np.random.random(size = None, dtype = np.float64, out = None)** \\\n",
    "`np.random.random(size)` creates an array of shape `size` with random numbers in the interval [0,1)"
   ]
  },
  {
   "cell_type": "code",
   "execution_count": 57,
   "metadata": {},
   "outputs": [
    {
     "name": "stdout",
     "output_type": "stream",
     "text": [
      "[0.84670278 0.12902194 0.29736509 0.14190847 0.98360151] \n",
      "\n",
      "[[0.76732249 0.55877781]\n",
      " [0.29054636 0.07003139]]\n"
     ]
    }
   ],
   "source": [
    "random_arr1 = np.random.random(5)\n",
    "random_arr2 = np.random.random((2,2))\n",
    "\n",
    "print(random_arr1, '\\n')\n",
    "print(random_arr2)"
   ]
  },
  {
   "cell_type": "markdown",
   "metadata": {},
   "source": [
    "**np.random.randint(low, high = None, size = None)** \\\n",
    "Using `np.random.randint(low, high)` generates a random integer in the intervall [low, high). \\\n",
    "The usage of `size` creates an array of shape `size` and fills it with the generated numbers."
   ]
  },
  {
   "cell_type": "code",
   "execution_count": 75,
   "metadata": {},
   "outputs": [
    {
     "name": "stdout",
     "output_type": "stream",
     "text": [
      "1 \n",
      "\n",
      "[[-1  0  0  1]\n",
      " [-1 -1 -1  1]\n",
      " [ 2 -1  0 -1]\n",
      " [-1  2 -1 -1]]\n"
     ]
    }
   ],
   "source": [
    "randInt = np.random.randint(-2, 3)\n",
    "randInt_arr = np.random.randint(-2, 3, size=(4, 4))\n",
    "\n",
    "print(randInt, '\\n')\n",
    "print(randInt_arr)"
   ]
  },
  {
   "cell_type": "markdown",
   "metadata": {},
   "source": [
    "## Elements of linear algebra"
   ]
  },
  {
   "cell_type": "markdown",
   "metadata": {},
   "source": [
    "### Dot product"
   ]
  },
  {
   "cell_type": "code",
   "execution_count": 76,
   "metadata": {},
   "outputs": [
    {
     "name": "stdout",
     "output_type": "stream",
     "text": [
      "0\n"
     ]
    }
   ],
   "source": [
    "a = np.array([1, 0, 1])\n",
    "b = np.array([1, 0, -1])\n",
    "\n",
    "c = a @ b  # or a.dot(b)\n",
    "print(c)"
   ]
  },
  {
   "cell_type": "markdown",
   "metadata": {},
   "source": [
    "### Matrix-vector product"
   ]
  },
  {
   "cell_type": "code",
   "execution_count": 77,
   "metadata": {},
   "outputs": [
    {
     "name": "stdout",
     "output_type": "stream",
     "text": [
      "[5. 5.]\n"
     ]
    }
   ],
   "source": [
    "A = np.ones((2,2))\n",
    "v = np.array([2, 3])\n",
    "\n",
    "result = A @ v # or A.dot(v)\n",
    "print(result)"
   ]
  },
  {
   "cell_type": "markdown",
   "metadata": {},
   "source": [
    "### Eigenvalues and -vectors"
   ]
  },
  {
   "cell_type": "code",
   "execution_count": 78,
   "metadata": {},
   "outputs": [
    {
     "name": "stdout",
     "output_type": "stream",
     "text": [
      "Eigenvalues:  [ 1. -1.]\n",
      "Eigenvectors:  [[ 0.70710678 -0.70710678]\n",
      " [ 0.70710678  0.70710678]]\n"
     ]
    }
   ],
   "source": [
    "sigma_1 = np.array([[0, 1], [1, 0]])\n",
    "\n",
    "print('Eigenvalues: ', np.linalg.eig(sigma_1)[0])\n",
    "print('Eigenvectors: ', np.linalg.eig(sigma_1)[1])"
   ]
  }
 ],
 "metadata": {
  "kernelspec": {
   "display_name": "Python 3",
   "language": "python",
   "name": "python3"
  },
  "language_info": {
   "codemirror_mode": {
    "name": "ipython",
    "version": 3
   },
   "file_extension": ".py",
   "mimetype": "text/x-python",
   "name": "python",
   "nbconvert_exporter": "python",
   "pygments_lexer": "ipython3",
   "version": "3.11.6"
  }
 },
 "nbformat": 4,
 "nbformat_minor": 2
}
