{
 "cells": [
  {
   "cell_type": "markdown",
   "metadata": {},
   "source": [
    "# Introduction to Python"
   ]
  },
  {
   "cell_type": "markdown",
   "metadata": {},
   "source": [
    "### Primitive data types\n",
    "\n",
    "#### integers\n",
    "``` 1 , -3, 142343242354```\n",
    "\n",
    "#### floats\n",
    "- floating point numbers\n",
    "- decimal symbol '.'\n",
    "- scientific notation e+..., e-... possible\n",
    "\n",
    "``` 1.0 , -3.1415, 3e5```\n",
    "\n",
    "#### complex\n",
    "- ```1j``` imaginary unit\n",
    "- real and complex part are floats\n",
    "\n",
    " ``` 1.0 + 3j ```\n",
    "\n",
    "#### strings\n",
    "- consists of characters\n",
    "- enclosed by \"\" or ''\n",
    "- special charachters like '\\n' (new line), '\\t' (tabulator)\n",
    "\n",
    " ``` \"abc\", 'Hello World!', \"Line1\\n Line2\" ```\n",
    "\n",
    "#### boolean\n",
    "- two states:\n",
    " ``` True , False ```"
   ]
  },
  {
   "cell_type": "markdown",
   "metadata": {},
   "source": [
    "### Declaring variables\n",
    "Use '=' like this:\n",
    "```python\n",
    "a = 1\n",
    "b = 'Hello World!'\n",
    "c = True\n",
    "```"
   ]
  },
  {
   "cell_type": "markdown",
   "metadata": {},
   "source": [
    "### Operations\n",
    "\n",
    "#### Arithmetic operations\n",
    "- Addition: ```x + y```\n",
    "- Subtraction: ```x - y```\n",
    "- Multiplication: ```x * y```\n",
    "- Exponents: ```x ** y```\n",
    "- Division: ```x / y```\n",
    "- Integer division: ``` x // y ``` (dividing x by y and rounding down)\n",
    "- Remainder: ``` x % y ```\n",
    "\n",
    "#### Logical operations\n",
    "<style type=\"text/css\">\n",
    ".tg  {border-collapse:collapse;border-spacing:0;}\n",
    ".tg td{border-color:black;border-style:solid;border-width:1px;font-family:Arial, sans-serif;font-size:14px;\n",
    "  overflow:hidden;padding:10px 5px;word-break:normal;}\n",
    ".tg th{border-color:black;border-style:solid;border-width:1px;font-family:Arial, sans-serif;font-size:14px;\n",
    "  font-weight:normal;overflow:hidden;padding:10px 5px;word-break:normal;}\n",
    ".tg .tg-baqh{text-align:center;vertical-align:top}\n",
    ".tg .tg-wp8o{border-color:#000000;text-align:center;vertical-align:top}\n",
    ".tg .tg-0lax{text-align:left;vertical-align:top}\n",
    "</style>\n",
    "<table class=\"tg\">\n",
    "<thead>\n",
    "  <tr>\n",
    "    <th class=\"tg-0lax\">a</th>\n",
    "    <th class=\"tg-0lax\">b</th>\n",
    "    <th class=\"tg-0lax\">AND</th>\n",
    "    <th class=\"tg-73oq\">OR</th>\n",
    "  </tr>\n",
    "</thead>\n",
    "<tbody>\n",
    "  <tr>\n",
    "    <td class=\"tg-0lax\">False</td>\n",
    "    <td class=\"tg-0lax\">False</td>\n",
    "    <td class=\"tg-0lax\">False</td>\n",
    "    <td class=\"tg-0lax\">False</td>\n",
    "  </tr>\n",
    "  <tr>\n",
    "    <td class=\"tg-0lax\">True</td>\n",
    "    <td class=\"tg-0lax\">False</td>\n",
    "    <td class=\"tg-0lax\">False</td>\n",
    "    <td class=\"tg-0lax\">True</td>\n",
    "  </tr>\n",
    "  <tr>\n",
    "    <td class=\"tg-0lax\">False</td>\n",
    "    <td class=\"tg-0lax\">True</td>\n",
    "    <td class=\"tg-0lax\">False</td>\n",
    "    <td class=\"tg-0lax\">True</td>\n",
    "  </tr>\n",
    "  <tr>\n",
    "    <td class=\"tg-0lax\">True</td>\n",
    "    <td class=\"tg-0lax\">True</td>\n",
    "    <td class=\"tg-0lax\">True</td>\n",
    "    <td class=\"tg-0lax\">True</td>\n",
    "  </tr>\n",
    "</tbody>\n",
    "</table>\n",
    "\n",
    "- AND: ``` a and b ```\n",
    "- OR: ``` a or b ```\n",
    "- NOT: ``` not a ```"
   ]
  },
  {
   "cell_type": "markdown",
   "metadata": {},
   "source": [
    "#### Bitwise operations\n",
    "- `&` : AND\n",
    "- `|` : OR\n",
    "- `^` : XOR"
   ]
  },
  {
   "cell_type": "markdown",
   "metadata": {},
   "source": [
    "#### Comparison operations\n",
    "- `a < b`: Returns `True` if a < b, `False` otherwise\n",
    "- `a > b`: Returns `True` if a > b, `False` otherwise\n",
    "- `a == b`: Returns `True` if a = b, `False` otherwise\n",
    "- `a != b`: Returns `True` if a not equal to b, `False` otherwise"
   ]
  },
  {
   "cell_type": "markdown",
   "metadata": {},
   "source": [
    "### Lists\n",
    "It is possible to store multiple values in a list. Using `[]` initializes a list like this: \\\n",
    "``` list_name = [1, 2, 3, 4]```\n",
    "\n",
    "To access an element of the list use `list_name[i]`, where `i` is the index ranging from `0` (first element) to `len(list_name) - 1` (last element). \\\n",
    "`list_name[0]` returns `1` in this example. \n",
    "\n",
    "#### range()\n",
    "The `range` class offers an useful tool to create a list of integers.\n",
    "- `list(range(a,b))` creates a list of integers from `a` to `b-1`. \\\n",
    "- It is also possible to use `list(range(b))`, then `a` is automatically set to 0.\n",
    "\n",
    "Example: \\\n",
    "`list(range(1, 4))` returns `[1, 2, 3]` \\\n",
    "`list(range(6))` returns `[0, 1, 2, 3, 4, 5]`"
   ]
  },
  {
   "cell_type": "markdown",
   "metadata": {},
   "source": [
    "### Control structures"
   ]
  },
  {
   "cell_type": "markdown",
   "metadata": {},
   "source": [
    "#### if-else-statement\n",
    "- Syntax: \n",
    "```python\n",
    "if condition1:\n",
    "    instructions1\n",
    "elif condition2:\n",
    "    instructions2\n",
    "else:\n",
    "    instructions3\n",
    "```\n",
    "- if `condition1` is met, `instructions1` are executed and nothing else happens\n",
    "- if `condition1` is not met, `condition2` is checked and if it's met, `instructions2` are executed (`elif` = else if)\n",
    "- if no condition is met, `instructions3` are executed"
   ]
  },
  {
   "cell_type": "code",
   "execution_count": null,
   "metadata": {},
   "outputs": [],
   "source": [
    "a = 1\n",
    "\n",
    "if a == 1:\n",
    "    print('a is 1')\n",
    "elif a == 2:\n",
    "    print('a is 2')\n",
    "else:\n",
    "    print('a is neither 1 nor 2')"
   ]
  },
  {
   "cell_type": "markdown",
   "metadata": {},
   "source": [
    "#### Loops\n",
    "- `for` - Loop:\n",
    "    - Syntax: \n",
    "    ```python\n",
    "    for element in iterable:\n",
    "        instructions\n",
    "    ```\n",
    "    - for every element of the iterable (e.g. list) the given instructions are executed "
   ]
  },
  {
   "cell_type": "code",
   "execution_count": null,
   "metadata": {},
   "outputs": [],
   "source": [
    "a = [1, 2, 3, 4, 5]\n",
    "\n",
    "for i in a:\n",
    "    print(i ** 2)"
   ]
  },
  {
   "cell_type": "markdown",
   "metadata": {},
   "source": [
    "- `while`-loop\n",
    "    - Syntax:\n",
    "    ```python\n",
    "    while condition:\n",
    "        instructions\n",
    "    ```\n",
    "    - while the condition is True, the loop is continued\n",
    "    - useful when not knowing the number of iterations"
   ]
  },
  {
   "cell_type": "code",
   "execution_count": null,
   "metadata": {},
   "outputs": [],
   "source": [
    "i = 0\n",
    "\n",
    "while i < 5:\n",
    "    print(i ** 2)\n",
    "    i = i + 1"
   ]
  },
  {
   "cell_type": "markdown",
   "metadata": {},
   "source": [
    "- `break`:\n",
    "    - ends a loop\n",
    "    - combine with stop condition"
   ]
  },
  {
   "cell_type": "code",
   "execution_count": null,
   "metadata": {},
   "outputs": [],
   "source": [
    "i = 0\n",
    "\n",
    "while True:\n",
    "    print(i ** 2)\n",
    "    i = i + 1\n",
    "\n",
    "    if i == 5:\n",
    "        break"
   ]
  },
  {
   "cell_type": "markdown",
   "metadata": {},
   "source": [
    "- `continue`:\n",
    "    - ends an iteration\n",
    "    - useful for special elements"
   ]
  },
  {
   "cell_type": "code",
   "execution_count": null,
   "metadata": {},
   "outputs": [],
   "source": [
    "i = 0\n",
    "\n",
    "while True:\n",
    "    if i == 2:\n",
    "        i = i + 1\n",
    "        continue\n",
    "\n",
    "    if i == 5:\n",
    "        break\n",
    "\n",
    "    print(i ** 2)\n",
    "    i = i + 1"
   ]
  }
 ],
 "metadata": {
  "kernelspec": {
   "display_name": "Python 3",
   "language": "python",
   "name": "python3"
  },
  "language_info": {
   "codemirror_mode": {
    "name": "ipython",
    "version": 3
   },
   "file_extension": ".py",
   "mimetype": "text/x-python",
   "name": "python",
   "nbconvert_exporter": "python",
   "pygments_lexer": "ipython3",
   "version": "3.9.5"
  }
 },
 "nbformat": 4,
 "nbformat_minor": 2
}
